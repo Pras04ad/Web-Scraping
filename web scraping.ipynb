{
 "cells": [
  {
   "cell_type": "code",
   "execution_count": 1,
   "id": "799d19c5",
   "metadata": {},
   "outputs": [],
   "source": [
    "import requests\n",
    "from bs4 import BeautifulSoup"
   ]
  },
  {
   "cell_type": "code",
   "execution_count": 29,
   "id": "67032fe7",
   "metadata": {},
   "outputs": [],
   "source": [
    "import pandas as pd"
   ]
  },
  {
   "cell_type": "code",
   "execution_count": 31,
   "id": "709715bc",
   "metadata": {},
   "outputs": [
    {
     "name": "stdout",
     "output_type": "stream",
     "text": [
      "[['A Light in the Attic', 51.77, 'Three'], ['Tipping the Velvet', 53.74, 'One'], ['Soumission', 50.1, 'One'], ['Sharp Objects', 47.82, 'Four'], ['Sapiens: A Brief History of Humankind', 54.23, 'Five'], ['The Requiem Red', 22.65, 'One'], ['The Dirty Little Secrets of Getting Your Dream Job', 33.34, 'Four'], ['The Coming Woman: A Novel Based on the Life of the Infamous Feminist, Victoria Woodhull', 17.93, 'Three'], ['The Boys in the Boat: Nine Americans and Their Epic Quest for Gold at the 1936 Berlin Olympics', 22.6, 'Four'], ['The Black Maria', 52.15, 'One'], ['Starving Hearts (Triangular Trade Trilogy, #1)', 13.99, 'Two'], [\"Shakespeare's Sonnets\", 20.66, 'Four'], ['Set Me Free', 17.46, 'Five'], [\"Scott Pilgrim's Precious Little Life (Scott Pilgrim #1)\", 52.29, 'Five'], ['Rip it Up and Start Again', 35.02, 'Five'], ['Our Band Could Be Your Life: Scenes from the American Indie Underground, 1981-1991', 57.25, 'Three'], ['Olio', 23.88, 'One'], ['Mesaerion: The Best Science Fiction Stories 1800-1849', 37.59, 'One'], ['Libertarianism for Beginners', 51.33, 'Two'], [\"It's Only the Himalayas\", 45.17, 'Two'], ['In Her Wake', 12.84, 'One'], ['How Music Works', 37.32, 'Two'], ['Foolproof Preserving: A Guide to Small Batch Jams, Jellies, Pickles, Condiments, and More: A Foolproof Guide to Making Small Batch Jams, Jellies, Pickles, Condiments, and More', 30.52, 'Three'], ['Chase Me (Paris Nights #2)', 25.27, 'Five'], ['Black Dust', 34.53, 'Five'], ['Birdsong: A Story in Pictures', 54.64, 'Three'], [\"America's Cradle of Quarterbacks: Western Pennsylvania's Football Factory from Johnny Unitas to Joe Montana\", 22.5, 'Three'], ['Aladdin and His Wonderful Lamp', 53.13, 'Three'], ['Worlds Elsewhere: Journeys Around Shakespeare’s Globe', 40.3, 'Five'], ['Wall and Piece', 44.18, 'Four'], ['The Four Agreements: A Practical Guide to Personal Freedom', 17.66, 'Five'], ['The Five Love Languages: How to Express Heartfelt Commitment to Your Mate', 31.05, 'Three'], ['The Elephant Tree', 23.82, 'Five'], ['The Bear and the Piano', 36.89, 'One'], [\"Sophie's World\", 15.94, 'Five'], ['Penny Maybe', 33.29, 'Three'], ['Maude (1883-1993):She Grew Up with the country', 18.02, 'Two'], ['In a Dark, Dark Wood', 19.63, 'One'], ['Behind Closed Doors', 52.22, 'Four'], [\"You can't bury them all: Poems\", 33.63, 'Two']]\n"
     ]
    }
   ],
   "source": [
    "books = []\n",
    "for i in range(1,3):\n",
    "    url = f\"https://books.toscrape.com/catalogue/page-{i}.html\"\n",
    "    response = requests.get(url)\n",
    "    response = response.content\n",
    "    soup = BeautifulSoup(response,'html.parser')\n",
    "    ol = soup.find('ol')\n",
    "    articles = ol.find_all('article',class_='product_pod')\n",
    "\n",
    "\n",
    "    for article in articles:\n",
    "        image = article.find('img')\n",
    "        title = image.attrs['alt'] #title of book\n",
    "        stars = article.find('p')\n",
    "        stars = stars['class'][1]  #stars given to book\n",
    "        price = article.find('p',class_='price_color').text #price of books\n",
    "        price = float(price[1:])\n",
    "        books.append([title,price,stars])\n",
    "print(books)"
   ]
  },
  {
   "cell_type": "code",
   "execution_count": 32,
   "id": "cf840bd1",
   "metadata": {},
   "outputs": [],
   "source": [
    "df = pd.DataFrame(books,columns=['Title','Price','Star Rating'])"
   ]
  },
  {
   "cell_type": "code",
   "execution_count": 33,
   "id": "0730309b",
   "metadata": {},
   "outputs": [],
   "source": [
    "df.to_csv('books.csv')"
   ]
  },
  {
   "cell_type": "code",
   "execution_count": null,
   "id": "fd691a64",
   "metadata": {},
   "outputs": [],
   "source": []
  }
 ],
 "metadata": {
  "kernelspec": {
   "display_name": "Python 3 (ipykernel)",
   "language": "python",
   "name": "python3"
  },
  "language_info": {
   "codemirror_mode": {
    "name": "ipython",
    "version": 3
   },
   "file_extension": ".py",
   "mimetype": "text/x-python",
   "name": "python",
   "nbconvert_exporter": "python",
   "pygments_lexer": "ipython3",
   "version": "3.11.4"
  }
 },
 "nbformat": 4,
 "nbformat_minor": 5
}
